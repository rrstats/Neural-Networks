{
 "cells": [
  {
   "cell_type": "code",
   "execution_count": 1,
   "id": "29e699ee-d43b-406f-9f89-6bb6c5f67bc2",
   "metadata": {},
   "outputs": [
    {
     "name": "stderr",
     "output_type": "stream",
     "text": [
      "Downloading...\n",
      "From: https://drive.google.com/uc?id=1dLOPwh01o3k8p_hK633ixhD1ehz6nNWk\n",
      "To: C:\\Users\\ryanr\\OneDrive\\Documents\\JN PLAYGROUND\\Neural Networks\\spiral.csv\n",
      "\n",
      "  0%|          | 0.00/12.9k [00:00<?, ?B/s]\n",
      "100%|##########| 12.9k/12.9k [00:00<?, ?B/s]\n"
     ]
    },
    {
     "data": {
      "text/html": [
       "<div>\n",
       "<style scoped>\n",
       "    .dataframe tbody tr th:only-of-type {\n",
       "        vertical-align: middle;\n",
       "    }\n",
       "\n",
       "    .dataframe tbody tr th {\n",
       "        vertical-align: top;\n",
       "    }\n",
       "\n",
       "    .dataframe thead th {\n",
       "        text-align: right;\n",
       "    }\n",
       "</style>\n",
       "<table border=\"1\" class=\"dataframe\">\n",
       "  <thead>\n",
       "    <tr style=\"text-align: right;\">\n",
       "      <th></th>\n",
       "      <th>x1</th>\n",
       "      <th>x2</th>\n",
       "      <th>y</th>\n",
       "    </tr>\n",
       "  </thead>\n",
       "  <tbody>\n",
       "    <tr>\n",
       "      <th>0</th>\n",
       "      <td>0.000000</td>\n",
       "      <td>0.000000</td>\n",
       "      <td>0</td>\n",
       "    </tr>\n",
       "    <tr>\n",
       "      <th>1</th>\n",
       "      <td>-0.000650</td>\n",
       "      <td>0.010080</td>\n",
       "      <td>0</td>\n",
       "    </tr>\n",
       "    <tr>\n",
       "      <th>2</th>\n",
       "      <td>0.009809</td>\n",
       "      <td>0.017661</td>\n",
       "      <td>0</td>\n",
       "    </tr>\n",
       "    <tr>\n",
       "      <th>3</th>\n",
       "      <td>0.007487</td>\n",
       "      <td>0.029364</td>\n",
       "      <td>0</td>\n",
       "    </tr>\n",
       "    <tr>\n",
       "      <th>4</th>\n",
       "      <td>-0.000027</td>\n",
       "      <td>0.040404</td>\n",
       "      <td>0</td>\n",
       "    </tr>\n",
       "  </tbody>\n",
       "</table>\n",
       "</div>"
      ],
      "text/plain": [
       "         x1        x2  y\n",
       "0  0.000000  0.000000  0\n",
       "1 -0.000650  0.010080  0\n",
       "2  0.009809  0.017661  0\n",
       "3  0.007487  0.029364  0\n",
       "4 -0.000027  0.040404  0"
      ]
     },
     "execution_count": 1,
     "metadata": {},
     "output_type": "execute_result"
    }
   ],
   "source": [
    "import pandas as pd\n",
    "import matplotlib.pyplot as plt\n",
    "import numpy as np\n",
    "\n",
    "!gdown 1dLOPwh01o3k8p_hK633ixhD1ehz6nNWk\n",
    "df = pd.read_csv(\"spiral.csv\")\n",
    "df.head()"
   ]
  },
  {
   "cell_type": "code",
   "execution_count": 2,
   "id": "b38ea819-238b-444a-8322-d37628028d51",
   "metadata": {},
   "outputs": [],
   "source": [
    "#sample data\n",
    "X = df.iloc[:, :-1].to_numpy()\n",
    "y = df.iloc[:, -1].to_numpy()"
   ]
  },
  {
   "cell_type": "code",
   "execution_count": 3,
   "id": "c424de3b-b82a-4774-8d52-e6db8eea8481",
   "metadata": {},
   "outputs": [],
   "source": [
    "#initialize parameters randomly\n",
    "d = 2\n",
    "n = 3\n",
    "h = 4"
   ]
  },
  {
   "cell_type": "code",
   "execution_count": 4,
   "id": "fcf69fa5-2d6b-4cf9-9008-7df7e88ec638",
   "metadata": {},
   "outputs": [],
   "source": [
    "W1 = 0.01 * np.random.randn(d, h)\n",
    "b1 = np.zeros((1,h))\n",
    "W2 = 0.01 * np.random.randn(h, n)\n",
    "b2 = np.zeros((1 , n))"
   ]
  },
  {
   "cell_type": "code",
   "execution_count": 5,
   "id": "c75e5983-26d4-4892-ac9a-bac45d4b1ba4",
   "metadata": {},
   "outputs": [],
   "source": [
    "Z1 = np.dot(X, W1) + b1\n",
    "A1 = np.maximum(0, Z1) #ReLU if Z1 < 0 A1 = 0 else A1 = Z1"
   ]
  },
  {
   "cell_type": "markdown",
   "id": "03684507-683b-46bf-b38c-e1e2d6a5eaff",
   "metadata": {},
   "source": [
    "### Calculation of Z2 and A2\n",
    "##### In order to get the shape (300, 3)\n",
    "##### We need to multiply A^1 with W^2 and add bias b^2 to it\n"
   ]
  },
  {
   "cell_type": "code",
   "execution_count": 6,
   "id": "2cad75ef-9502-419a-bbc7-d70f728a4a7c",
   "metadata": {},
   "outputs": [],
   "source": [
    "Z2 = np.dot(A1, W2) + b2\n",
    "#Applying softmax function to get A2\n",
    "Z2_exp = np.exp(Z2)\n",
    "A2 = Z2_exp/np.sum(Z2_exp, axis=1, keepdims=True)\n",
    "probs = A2"
   ]
  },
  {
   "cell_type": "code",
   "execution_count": 7,
   "id": "c2d2bfdf-8a6b-4fd9-8be1-822024e183d5",
   "metadata": {},
   "outputs": [],
   "source": [
    "#Number of training examples\n",
    "m = y.shape[0]"
   ]
  },
  {
   "cell_type": "code",
   "execution_count": 8,
   "id": "f1e1acce-d880-422e-aed4-aa651eb78789",
   "metadata": {},
   "outputs": [],
   "source": [
    " dZ2 = probs\n",
    "dZ2[range(m), y] -= 1"
   ]
  },
  {
   "cell_type": "code",
   "execution_count": 9,
   "id": "8f7b7361-862b-457f-a114-880cf199a89b",
   "metadata": {},
   "outputs": [],
   "source": [
    "dW2 = np.dot(A1.T, dZ2) / m #shape => (4, 30) x (300 ,3) => (4,3)"
   ]
  },
  {
   "cell_type": "code",
   "execution_count": 10,
   "id": "255438c4-44b3-44ea-b212-2fd4a8106d23",
   "metadata": {},
   "outputs": [],
   "source": [
    "db2 = np.sum(dZ2, axis=0, keepdims=True) / m #shape (1,3)"
   ]
  },
  {
   "cell_type": "code",
   "execution_count": 11,
   "id": "ff1a69ac-db5f-4825-b0fe-8806f62337c8",
   "metadata": {},
   "outputs": [],
   "source": [
    "dA1 = np.dot(dZ2, W2.T) #(300, 3) x (3, 4) => (300,4)"
   ]
  },
  {
   "cell_type": "code",
   "execution_count": 12,
   "id": "a5dd5eeb-5505-414c-8901-a7bf6fd00162",
   "metadata": {},
   "outputs": [],
   "source": [
    "dA1[Z1 <= 0] = 0\n",
    "dZ1 = dA1 #same shape as dA1"
   ]
  },
  {
   "cell_type": "code",
   "execution_count": 13,
   "id": "0ce2820b-3c67-4d47-94fd-6f605f5eafef",
   "metadata": {},
   "outputs": [],
   "source": [
    "dW1 = np.dot(X.T, dZ1) / m\n",
    "db1 = np.sum(dZ1, axis=0, keepdims=True)/m"
   ]
  },
  {
   "cell_type": "markdown",
   "id": "26dbd144-042c-4cea-bf9e-045e250ef0d5",
   "metadata": {},
   "source": [
    "#### Now that the gradients have been found, we must update all weight and bias values as"
   ]
  },
  {
   "cell_type": "code",
   "execution_count": 14,
   "id": "99092955-a735-473a-bdd2-c528d02b38e0",
   "metadata": {},
   "outputs": [],
   "source": [
    "lr = 1e-0"
   ]
  },
  {
   "cell_type": "code",
   "execution_count": 15,
   "id": "a6710622-b21c-48c4-b320-ab8287dd2cff",
   "metadata": {},
   "outputs": [],
   "source": [
    "#perform parameter update (learning rate x matrix)\n",
    "W1 += -lr * dW1\n",
    "b1 += -lr * db1\n",
    "W2 += -lr * dW2\n",
    "b2 += -lr * db2"
   ]
  },
  {
   "cell_type": "code",
   "execution_count": null,
   "id": "8991d4cf-639a-4363-8412-dba9a7663b6c",
   "metadata": {},
   "outputs": [],
   "source": []
  }
 ],
 "metadata": {
  "kernelspec": {
   "display_name": "Python 3 (ipykernel)",
   "language": "python",
   "name": "python3"
  },
  "language_info": {
   "codemirror_mode": {
    "name": "ipython",
    "version": 3
   },
   "file_extension": ".py",
   "mimetype": "text/x-python",
   "name": "python",
   "nbconvert_exporter": "python",
   "pygments_lexer": "ipython3",
   "version": "3.12.5"
  }
 },
 "nbformat": 4,
 "nbformat_minor": 5
}
