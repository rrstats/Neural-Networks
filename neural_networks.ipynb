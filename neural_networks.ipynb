{
 "cells": [
  {
   "cell_type": "code",
   "execution_count": 1,
   "id": "29e699ee-d43b-406f-9f89-6bb6c5f67bc2",
   "metadata": {},
   "outputs": [
    {
     "name": "stderr",
     "output_type": "stream",
     "text": [
      "Downloading...\n",
      "From: https://drive.google.com/uc?id=1dLOPwh01o3k8p_hK633ixhD1ehz6nNWk\n",
      "To: C:\\Users\\ryanr\\OneDrive\\Documents\\JN PLAYGROUND\\Neural Networks\\spiral.csv\n",
      "\n",
      "  0%|          | 0.00/12.9k [00:00<?, ?B/s]\n",
      "100%|##########| 12.9k/12.9k [00:00<?, ?B/s]\n"
     ]
    },
    {
     "data": {
      "text/html": [
       "<div>\n",
       "<style scoped>\n",
       "    .dataframe tbody tr th:only-of-type {\n",
       "        vertical-align: middle;\n",
       "    }\n",
       "\n",
       "    .dataframe tbody tr th {\n",
       "        vertical-align: top;\n",
       "    }\n",
       "\n",
       "    .dataframe thead th {\n",
       "        text-align: right;\n",
       "    }\n",
       "</style>\n",
       "<table border=\"1\" class=\"dataframe\">\n",
       "  <thead>\n",
       "    <tr style=\"text-align: right;\">\n",
       "      <th></th>\n",
       "      <th>x1</th>\n",
       "      <th>x2</th>\n",
       "      <th>y</th>\n",
       "    </tr>\n",
       "  </thead>\n",
       "  <tbody>\n",
       "    <tr>\n",
       "      <th>0</th>\n",
       "      <td>0.000000</td>\n",
       "      <td>0.000000</td>\n",
       "      <td>0</td>\n",
       "    </tr>\n",
       "    <tr>\n",
       "      <th>1</th>\n",
       "      <td>-0.000650</td>\n",
       "      <td>0.010080</td>\n",
       "      <td>0</td>\n",
       "    </tr>\n",
       "    <tr>\n",
       "      <th>2</th>\n",
       "      <td>0.009809</td>\n",
       "      <td>0.017661</td>\n",
       "      <td>0</td>\n",
       "    </tr>\n",
       "    <tr>\n",
       "      <th>3</th>\n",
       "      <td>0.007487</td>\n",
       "      <td>0.029364</td>\n",
       "      <td>0</td>\n",
       "    </tr>\n",
       "    <tr>\n",
       "      <th>4</th>\n",
       "      <td>-0.000027</td>\n",
       "      <td>0.040404</td>\n",
       "      <td>0</td>\n",
       "    </tr>\n",
       "  </tbody>\n",
       "</table>\n",
       "</div>"
      ],
      "text/plain": [
       "         x1        x2  y\n",
       "0  0.000000  0.000000  0\n",
       "1 -0.000650  0.010080  0\n",
       "2  0.009809  0.017661  0\n",
       "3  0.007487  0.029364  0\n",
       "4 -0.000027  0.040404  0"
      ]
     },
     "execution_count": 1,
     "metadata": {},
     "output_type": "execute_result"
    }
   ],
   "source": [
    "import pandas as pd\n",
    "import matplotlib.pyplot as plt\n",
    "import numpy as np\n",
    "\n",
    "!gdown 1dLOPwh01o3k8p_hK633ixhD1ehz6nNWk\n",
    "df = pd.read_csv(\"spiral.csv\")\n",
    "df.head()"
   ]
  },
  {
   "cell_type": "code",
   "execution_count": 2,
   "id": "b38ea819-238b-444a-8322-d37628028d51",
   "metadata": {},
   "outputs": [],
   "source": [
    "X = df.iloc[:, :-1].to_numpy()\n",
    "y = df.iloc[:, -1].to_numpy()"
   ]
  },
  {
   "cell_type": "code",
   "execution_count": 3,
   "id": "24bf1016-32c7-47d6-a441-fd99715e5d56",
   "metadata": {},
   "outputs": [],
   "source": [
    "d = 2\n",
    "n = 3\n",
    "m = y.shape[0]\n",
    "\n",
    "W = 0.01 * np.random.randn(d, n)\n",
    "b = np.zeros((1,n))"
   ]
  },
  {
   "cell_type": "code",
   "execution_count": 4,
   "id": "853b6f56-4100-4f17-b0e8-beaf6fa5ad45",
   "metadata": {},
   "outputs": [
    {
     "name": "stdout",
     "output_type": "stream",
     "text": [
      "(300, 3)\n"
     ]
    }
   ],
   "source": [
    "z = np.dot(X, W) + b\n",
    "print(z.shape)"
   ]
  },
  {
   "cell_type": "code",
   "execution_count": 5,
   "id": "876ec2db-fdac-4113-9d34-af9660c4e218",
   "metadata": {},
   "outputs": [],
   "source": [
    "#Raising these scores to e to find probabilities\n",
    "#Softmax\n",
    "exp_z = np.exp(z)\n",
    "probs = exp_z / np.sum(exp_z, axis=1, keepdims=True)"
   ]
  },
  {
   "cell_type": "code",
   "execution_count": 6,
   "id": "d44a2009-fc34-43cb-b9dc-354d6e154798",
   "metadata": {},
   "outputs": [
    {
     "data": {
      "text/plain": [
       "(300, 3)"
      ]
     },
     "execution_count": 6,
     "metadata": {},
     "output_type": "execute_result"
    }
   ],
   "source": [
    "probs.shape"
   ]
  },
  {
   "cell_type": "code",
   "execution_count": 7,
   "id": "0f5aff6a-97e0-4119-b6a0-465e88cf36c7",
   "metadata": {},
   "outputs": [],
   "source": [
    "dz = probs\n",
    "dz[range(m), y] -= 1\n",
    "#dz = dz/m"
   ]
  },
  {
   "cell_type": "code",
   "execution_count": 8,
   "id": "3af122d0-d824-43d1-8458-3a99317aca7c",
   "metadata": {},
   "outputs": [
    {
     "data": {
      "text/plain": [
       "(300, 2)"
      ]
     },
     "execution_count": 8,
     "metadata": {},
     "output_type": "execute_result"
    }
   ],
   "source": [
    "X.shape"
   ]
  },
  {
   "cell_type": "code",
   "execution_count": 9,
   "id": "eadee3b1-1cdb-4a40-a499-912a0698c101",
   "metadata": {},
   "outputs": [
    {
     "data": {
      "text/plain": [
       "(2, 3)"
      ]
     },
     "execution_count": 9,
     "metadata": {},
     "output_type": "execute_result"
    }
   ],
   "source": [
    "#DW = dZ . X\n",
    "\n",
    "dW = np.dot(X.T, dz)\n",
    "dW.shape"
   ]
  },
  {
   "cell_type": "code",
   "execution_count": 10,
   "id": "b4be4df2-9734-48a4-a965-01f0baa75cd1",
   "metadata": {},
   "outputs": [
    {
     "data": {
      "text/plain": [
       "(1, 3)"
      ]
     },
     "execution_count": 10,
     "metadata": {},
     "output_type": "execute_result"
    }
   ],
   "source": [
    "b.shape #shape (1,n)"
   ]
  },
  {
   "cell_type": "code",
   "execution_count": 11,
   "id": "02f4954e-b2a7-43e6-81bc-ca6903ecc1a3",
   "metadata": {},
   "outputs": [
    {
     "data": {
      "text/plain": [
       "(1, 3)"
      ]
     },
     "execution_count": 11,
     "metadata": {},
     "output_type": "execute_result"
    }
   ],
   "source": [
    "db = np.sum(dz, axis=0, keepdims=True)\n",
    "db.shape"
   ]
  },
  {
   "cell_type": "code",
   "execution_count": 12,
   "id": "fe277fab-48a3-4416-9444-4eff08fb5824",
   "metadata": {},
   "outputs": [],
   "source": [
    "def backprop(probs, y):\n",
    "    #we know that dz = pi - I\n",
    "    dz = probs\n",
    "    dz[range(m), y] -= 1 #subtracting 1 where i == j i.e. class\n",
    "    dz = dz / m\n",
    "    dW = np.dot(X.T, dz)\n",
    "    db = np.sum(dz, axis=0, keepdims=True)\n",
    "    return dW, db"
   ]
  },
  {
   "cell_type": "code",
   "execution_count": 13,
   "id": "d22b3713-4eeb-4be3-824d-ff2312836967",
   "metadata": {},
   "outputs": [],
   "source": [
    "lr = 0.1\n",
    "W += -lr + dW\n",
    "b += -lr + db"
   ]
  },
  {
   "cell_type": "code",
   "execution_count": null,
   "id": "ec5cd26e-1741-4192-963f-7fceef681c83",
   "metadata": {},
   "outputs": [],
   "source": [
    "max_iters = 500\n",
    "lr = 1\n",
    "\n",
    "d = X.shape[1]\n",
    "n = len(np.unique(y))\n",
    "m = X.shape[0]\n"
   ]
  }
 ],
 "metadata": {
  "kernelspec": {
   "display_name": "Python 3 (ipykernel)",
   "language": "python",
   "name": "python3"
  },
  "language_info": {
   "codemirror_mode": {
    "name": "ipython",
    "version": 3
   },
   "file_extension": ".py",
   "mimetype": "text/x-python",
   "name": "python",
   "nbconvert_exporter": "python",
   "pygments_lexer": "ipython3",
   "version": "3.12.5"
  }
 },
 "nbformat": 4,
 "nbformat_minor": 5
}
